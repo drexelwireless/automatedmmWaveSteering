{
 "cells": [
  {
   "cell_type": "code",
   "execution_count": 1,
   "id": "9b123d17",
   "metadata": {},
   "outputs": [],
   "source": [
    "import pandas as pd\n",
    "import numpy as np\n",
    "import os\n",
    "from joblib import dump, load"
   ]
  },
  {
   "cell_type": "code",
   "execution_count": 2,
   "id": "de9288de",
   "metadata": {},
   "outputs": [],
   "source": [
    "def get_quadrant(x,y):\n",
    "    if x >= 0 and y >= 0:\n",
    "        return 4\n",
    "    elif x>= 0 and y <= 0:\n",
    "        return 1\n",
    "    elif x <= 0 and y <=0:\n",
    "        return 2\n",
    "    else:\n",
    "        return 3\n",
    "\n",
    "def to_polar(x_y):\n",
    "    x = x_y[0]\n",
    "    y = x_y[1]\n",
    "    \n",
    "    R = np.sqrt((x**2)+ (y**2))\n",
    "\n",
    "    quadrant = get_quadrant(x,y)\n",
    "    \n",
    "    x = abs(x)\n",
    "    y = abs(y)\n",
    "    \n",
    "    #print(quadrant)\n",
    "    if quadrant == 1: \n",
    "        angle = np.rad2deg(np.arctan2(y,x))\n",
    "    elif quadrant == 2: \n",
    "        angle = 180 - np.rad2deg(np.arctan2(y,x))\n",
    "    elif quadrant == 3: \n",
    "        angle = 180 + np.rad2deg(np.arctan2(y,x))\n",
    "    else: \n",
    "        angle = 360 - np.rad2deg(np.arctan2(y,x))\n",
    "    \n",
    "    #angle = np.arctan2(y,x)\n",
    "    return R, angle\n",
    "\n",
    "def read_data(path):\n",
    "    data = pd.read_csv(path)\n",
    "    #print(data)\n",
    "    \n",
    "    X = np.array(data[data.columns[0:4]]).astype('double')\n",
    "    print(np.shape(X))\n",
    "    #print(X)\n",
    "    \n",
    "    y = np.array(data[data.columns[4:]]).astype('double')\n",
    "    print(np.shape(y))\n",
    "    #print(y)\n",
    "    \n",
    "    return X, y\n",
    "\n",
    "def create_angle_array(arr):\n",
    "    output = np.zeros(len(arr))\n",
    "    #print(np.shape(output))\n",
    "    for i, item in enumerate(arr):\n",
    "        output[i] = to_polar(item)[1]\n",
    "        \n",
    "    #print(output)\n",
    "    return output"
   ]
  },
  {
   "cell_type": "code",
   "execution_count": 3,
   "id": "dc30cd78",
   "metadata": {},
   "outputs": [
    {
     "name": "stdout",
     "output_type": "stream",
     "text": [
      "(6000, 4)\n",
      "(6000, 2)\n"
     ]
    }
   ],
   "source": [
    "train_1_X, train_1_y = read_data(\"6000_Random_Rx_Points.csv\")"
   ]
  },
  {
   "cell_type": "code",
   "execution_count": 4,
   "id": "4db1e932",
   "metadata": {},
   "outputs": [
    {
     "name": "stdout",
     "output_type": "stream",
     "text": [
      "(6000, 4)\n",
      "(6000, 2)\n"
     ]
    }
   ],
   "source": [
    "train_2_X, train_2_y = read_data(\"Dataset_2_6000_random_points.csv\")"
   ]
  },
  {
   "cell_type": "code",
   "execution_count": 5,
   "id": "911f1b02",
   "metadata": {},
   "outputs": [
    {
     "name": "stdout",
     "output_type": "stream",
     "text": [
      "(6000, 4)\n",
      "(6000, 2)\n",
      "(6000, 4)\n",
      "(6000, 2)\n",
      "(6000, 4)\n",
      "(6000, 2)\n",
      "(6000, 4)\n",
      "(6000, 2)\n",
      "(6000, 4)\n",
      "(6000, 2)\n"
     ]
    }
   ],
   "source": [
    "train_3_X, train_3_y = read_data(\"Dataset_3.csv\")\n",
    "train_4_X, train_4_y = read_data(\"Dataset_4.csv\")\n",
    "train_5_X, train_5_y = read_data(\"Dataset_5.csv\")\n",
    "train_6_X, train_6_y = read_data(\"Dataset_6.csv\")\n",
    "train_7_X, train_7_y = read_data(\"Dataset_7.csv\")"
   ]
  },
  {
   "cell_type": "code",
   "execution_count": 7,
   "id": "db5625b3",
   "metadata": {},
   "outputs": [
    {
     "name": "stdout",
     "output_type": "stream",
     "text": [
      "(11000, 4)\n",
      "(11000, 2)\n"
     ]
    }
   ],
   "source": [
    "train_X = np.concatenate((train_1_X[1000:],train_2_X), axis=0)#,train_3_X,train_4_X,train_5_X,train_6_X,train_7_X),axis=0)\n",
    "train_y = np.concatenate((train_1_y[1000:],train_2_y), axis=0)#,train_3_y,train_4_y,train_5_y,train_6_y,train_7_y),axis=0)\n",
    "#train_X = np.concatenate((train_3_X,train_4_X,train_5_X,train_6_X,train_7_X),axis=0)\n",
    "#train_y = np.concatenate((train_3_y,train_4_y,train_5_y,train_6_y,train_7_y),axis=0)\n",
    "\n",
    "print(np.shape(train_X))\n",
    "print(np.shape(train_y))"
   ]
  },
  {
   "cell_type": "code",
   "execution_count": 8,
   "id": "32a1b26f",
   "metadata": {},
   "outputs": [],
   "source": [
    "from sklearn.linear_model import LinearRegression\n",
    "lin_reg=LinearRegression()\n",
    "\n",
    "from sklearn.tree import DecisionTreeRegressor\n",
    "tree_reg=DecisionTreeRegressor()\n",
    "\n",
    "from sklearn.ensemble import RandomForestRegressor\n",
    "forest_reg=RandomForestRegressor()"
   ]
  },
  {
   "cell_type": "code",
   "execution_count": 27,
   "id": "e704f193",
   "metadata": {},
   "outputs": [
    {
     "data": {
      "text/plain": [
       "RandomForestRegressor()"
      ]
     },
     "execution_count": 27,
     "metadata": {},
     "output_type": "execute_result"
    }
   ],
   "source": [
    "lin_reg.fit(train_X,train_y)\n",
    "tree_reg.fit(train_X,train_y)\n",
    "forest_reg.fit(train_X,train_y)"
   ]
  },
  {
   "cell_type": "code",
   "execution_count": 28,
   "id": "531e5b29",
   "metadata": {},
   "outputs": [
    {
     "name": "stdout",
     "output_type": "stream",
     "text": [
      "(1000, 4)\n",
      "(1000, 2)\n"
     ]
    }
   ],
   "source": [
    "test_X, test_y = read_data(\"1000_random_test_points.csv\")"
   ]
  },
  {
   "cell_type": "code",
   "execution_count": 29,
   "id": "9cf5a298",
   "metadata": {},
   "outputs": [
    {
     "name": "stdout",
     "output_type": "stream",
     "text": [
      "Training Set\n",
      "Regression:  4.488027727706655\n",
      "Tree:  0.0\n",
      "Forrest  0.07274039023236774\n",
      "\n",
      "\n"
     ]
    }
   ],
   "source": [
    "linPreds_tr=lin_reg.predict(train_X)\n",
    "treePreds_tr=tree_reg.predict(train_X)\n",
    "forestPreds_tr=forest_reg.predict(train_X)\n",
    "\n",
    "from sklearn.metrics import mean_squared_error\n",
    "lin_rmse_tr=np.sqrt(mean_squared_error(train_y,linPreds_tr))\n",
    "tree_rmse_tr=np.sqrt(mean_squared_error(train_y,treePreds_tr))\n",
    "forest_rmse_tr=np.sqrt(mean_squared_error(train_y,forestPreds_tr))\n",
    "\n",
    "print(\"Training Set\")\n",
    "print(\"Regression: \",lin_rmse_tr)\n",
    "print(\"Tree: \",tree_rmse_tr)\n",
    "print(\"Forrest \",forest_rmse_tr)\n",
    "print(\"\\n\")"
   ]
  },
  {
   "cell_type": "code",
   "execution_count": 30,
   "id": "04c43e4e",
   "metadata": {},
   "outputs": [
    {
     "name": "stdout",
     "output_type": "stream",
     "text": [
      "Testing Set\n",
      "Regression:  4.375906220855512\n",
      "Tree:  0.25944569720763544\n",
      "Forrest  0.16137662464784133\n",
      "\n",
      "\n"
     ]
    }
   ],
   "source": [
    "linPreds_test=lin_reg.predict(test_X)\n",
    "treePreds_test=tree_reg.predict(test_X)\n",
    "forestPreds_test=forest_reg.predict(test_X)\n",
    "\n",
    "from sklearn.metrics import mean_squared_error\n",
    "lin_rmse_test=np.sqrt(mean_squared_error(test_y,linPreds_test))\n",
    "tree_rmse_test=np.sqrt(mean_squared_error(test_y,treePreds_test))\n",
    "forest_rmse_test=np.sqrt(mean_squared_error(test_y,forestPreds_test))\n",
    "\n",
    "print(\"Testing Set\")\n",
    "print(\"Regression: \",lin_rmse_test)\n",
    "print(\"Tree: \",tree_rmse_test)\n",
    "print(\"Forrest \",forest_rmse_test)\n",
    "print(\"\\n\")"
   ]
  },
  {
   "cell_type": "code",
   "execution_count": 19,
   "id": "f0716893",
   "metadata": {},
   "outputs": [
    {
     "name": "stdout",
     "output_type": "stream",
     "text": [
      "[-29.1 -41.5 -22.6 -27.2]\n",
      "175.95547154472067\n"
     ]
    }
   ],
   "source": [
    "inp = np.multiply([-29.1,-41.5,-22.6,-27.2],1)\n",
    "print(inp)\n",
    "\n",
    "angle_arr = forest_reg.predict([inp])\n",
    "\n",
    "print(to_polar(angle_arr[0])[1])"
   ]
  },
  {
   "cell_type": "code",
   "execution_count": 31,
   "id": "7f70121a",
   "metadata": {},
   "outputs": [
    {
     "name": "stdout",
     "output_type": "stream",
     "text": [
      "Training Set\n",
      "Regression:  55.70236583393663\n",
      "Tree:  0.0\n",
      "Forrest  8.40923287342258\n",
      "\n",
      "\n",
      "Testing Set\n",
      "Regression:  58.31604429488057\n",
      "Tree:  19.65447776997374\n",
      "Forrest  11.35706820624101\n",
      "\n",
      "\n"
     ]
    }
   ],
   "source": [
    "from sklearn.metrics import mean_squared_error\n",
    "lin_rmse_tr=np.sqrt(mean_squared_error(create_angle_array(train_y),create_angle_array(linPreds_tr)))\n",
    "tree_rmse_tr=np.sqrt(mean_squared_error(create_angle_array(train_y),create_angle_array(treePreds_tr)))\n",
    "forest_rmse_tr=np.sqrt(mean_squared_error(create_angle_array(train_y),create_angle_array(forestPreds_tr)))\n",
    "\n",
    "print(\"Training Set\")\n",
    "print(\"Regression: \",lin_rmse_tr)\n",
    "print(\"Tree: \",tree_rmse_tr)\n",
    "print(\"Forrest \",forest_rmse_tr)\n",
    "print(\"\\n\")\n",
    "\n",
    "from sklearn.metrics import mean_squared_error\n",
    "lin_rmse_test=np.sqrt(mean_squared_error(create_angle_array(test_y),create_angle_array(linPreds_test)))\n",
    "tree_rmse_test=np.sqrt(mean_squared_error(create_angle_array(test_y),create_angle_array(treePreds_test)))\n",
    "forest_rmse_test=np.sqrt(mean_squared_error(create_angle_array(test_y),create_angle_array(forestPreds_test)))\n",
    "\n",
    "print(\"Testing Set\")\n",
    "print(\"Regression: \",lin_rmse_test)\n",
    "print(\"Tree: \",tree_rmse_test)\n",
    "print(\"Forrest \",forest_rmse_test)\n",
    "print(\"\\n\")"
   ]
  },
  {
   "cell_type": "code",
   "execution_count": 21,
   "id": "8590d253",
   "metadata": {},
   "outputs": [
    {
     "data": {
      "text/plain": [
       "['forest_reg.joblib']"
      ]
     },
     "execution_count": 21,
     "metadata": {},
     "output_type": "execute_result"
    }
   ],
   "source": [
    "dump(lin_reg, 'lin_reg.joblib')\n",
    "dump(tree_reg, 'tree_reg.joblib')\n",
    "dump(forest_reg, 'forest_reg.joblib')"
   ]
  },
  {
   "cell_type": "code",
   "execution_count": 22,
   "id": "b46eb206",
   "metadata": {},
   "outputs": [
    {
     "name": "stdout",
     "output_type": "stream",
     "text": [
      "[ 55.56220277 313.42074843 119.563646   152.63657046 197.58682149]\n"
     ]
    }
   ],
   "source": [
    "train_y_angle = create_angle_array(train_y)\n",
    "test_y_angle = create_angle_array(test_y)\n",
    "print(train_y_angle[:5])"
   ]
  },
  {
   "cell_type": "code",
   "execution_count": 23,
   "id": "50b7088b",
   "metadata": {},
   "outputs": [
    {
     "data": {
      "text/plain": [
       "RandomForestRegressor()"
      ]
     },
     "execution_count": 23,
     "metadata": {},
     "output_type": "execute_result"
    }
   ],
   "source": [
    "lin_reg_ang=LinearRegression()\n",
    "\n",
    "tree_reg_ang=DecisionTreeRegressor()\n",
    "\n",
    "forest_reg_ang=RandomForestRegressor()\n",
    "\n",
    "lin_reg_ang.fit(train_X,train_y_angle)\n",
    "tree_reg_ang.fit(train_X,train_y_angle)\n",
    "forest_reg_ang.fit(train_X,train_y_angle)"
   ]
  },
  {
   "cell_type": "code",
   "execution_count": 24,
   "id": "5f0ba434",
   "metadata": {},
   "outputs": [
    {
     "name": "stdout",
     "output_type": "stream",
     "text": [
      "Training Set\n",
      "Regression:  69.13426643988872\n",
      "Tree:  0.0\n",
      "Forrest  5.8176885440203865\n",
      "\n",
      "\n"
     ]
    }
   ],
   "source": [
    "linPreds_tr_ang=lin_reg_ang.predict(train_X)\n",
    "treePreds_tr_ang=tree_reg_ang.predict(train_X)\n",
    "forestPreds_tr_ang=forest_reg_ang.predict(train_X)\n",
    "\n",
    "from sklearn.metrics import mean_squared_error\n",
    "lin_rmse_tr_ang=np.sqrt(mean_squared_error(train_y_angle,linPreds_tr_ang))\n",
    "tree_rmse_tr_ang=np.sqrt(mean_squared_error(train_y_angle,treePreds_tr_ang))\n",
    "forest_rmse_tr_ang=np.sqrt(mean_squared_error(train_y_angle,forestPreds_tr_ang))\n",
    "\n",
    "print(\"Training Set\")\n",
    "print(\"Regression: \",lin_rmse_tr_ang)\n",
    "print(\"Tree: \",tree_rmse_tr_ang)\n",
    "print(\"Forrest \",forest_rmse_tr_ang)\n",
    "print(\"\\n\")"
   ]
  },
  {
   "cell_type": "code",
   "execution_count": 25,
   "id": "fd094ffc",
   "metadata": {},
   "outputs": [
    {
     "name": "stdout",
     "output_type": "stream",
     "text": [
      "Testing Set\n",
      "Regression:  69.29066249439738\n",
      "Tree:  19.756806116517314\n",
      "Forrest  15.363690085723148\n",
      "\n",
      "\n"
     ]
    }
   ],
   "source": [
    "linPreds_test_ang=lin_reg_ang.predict(test_X)\n",
    "treePreds_test_ang=tree_reg_ang.predict(test_X)\n",
    "forestPreds_test_ang=forest_reg_ang.predict(test_X)\n",
    "\n",
    "from sklearn.metrics import mean_squared_error\n",
    "lin_rmse_test_ang=np.sqrt(mean_squared_error(test_y_angle,linPreds_test_ang))\n",
    "tree_rmse_test_ang=np.sqrt(mean_squared_error(test_y_angle,treePreds_test_ang))\n",
    "forest_rmse_test_ang=np.sqrt(mean_squared_error(test_y_angle,forestPreds_test_ang))\n",
    "\n",
    "print(\"Testing Set\")\n",
    "print(\"Regression: \",lin_rmse_test_ang)\n",
    "print(\"Tree: \",tree_rmse_test_ang)\n",
    "print(\"Forrest \",forest_rmse_test_ang)\n",
    "print(\"\\n\")"
   ]
  },
  {
   "cell_type": "code",
   "execution_count": 19,
   "id": "ce29c9f4",
   "metadata": {},
   "outputs": [],
   "source": [
    "# print(lin_reg.predict(test_X[:5]))"
   ]
  },
  {
   "cell_type": "code",
   "execution_count": 20,
   "id": "4ed178e6",
   "metadata": {},
   "outputs": [],
   "source": [
    "def pract_test(RSSI):\n",
    "\n",
    "    inp = RSSI\n",
    "    print(inp)\n",
    "\n",
    "    angle_for = forest_reg.predict([inp])\n",
    "    angle_tree = tree_reg.predict([inp])\n",
    "    angle_reg = lin_reg.predict([inp])\n",
    "\n",
    "\n",
    "    print(\"forest: \",to_polar(angle_for[0])[1])\n",
    "    print(\"tree: \",to_polar(angle_tree[0])[1])\n",
    "    print(\"linear: \",to_polar(angle_reg[0])[1])"
   ]
  },
  {
   "cell_type": "code",
   "execution_count": 21,
   "id": "8b682e3f",
   "metadata": {},
   "outputs": [
    {
     "name": "stdout",
     "output_type": "stream",
     "text": [
      "[-35.42, -29.55, -27.98, -32.44]\n",
      "forest:  334.5509572062896\n",
      "tree:  262.0507315883438\n",
      "linear:  147.52723350898026\n"
     ]
    }
   ],
   "source": [
    "pract_test([-35.42,-29.55,-27.98,-32.44])"
   ]
  },
  {
   "cell_type": "code",
   "execution_count": 22,
   "id": "9422b505",
   "metadata": {},
   "outputs": [
    {
     "name": "stdout",
     "output_type": "stream",
     "text": [
      "[-36.97, -27.49, -29.91, -34.31]\n",
      "forest:  334.5509572062896\n",
      "tree:  262.0507315883438\n",
      "linear:  124.28470570963063\n"
     ]
    }
   ],
   "source": [
    "pract_test([-36.97,-27.49,-29.91,-34.31])"
   ]
  },
  {
   "cell_type": "code",
   "execution_count": 23,
   "id": "7209c30e",
   "metadata": {},
   "outputs": [
    {
     "name": "stdout",
     "output_type": "stream",
     "text": [
      "[-40.75, -27.97, -30.29, -32.79]\n",
      "forest:  337.75760173816246\n",
      "tree:  262.0507315883438\n",
      "linear:  143.57975675306977\n"
     ]
    }
   ],
   "source": [
    "pract_test([-40.75,-27.97,-30.29,-32.79])"
   ]
  },
  {
   "cell_type": "code",
   "execution_count": 24,
   "id": "51f3f9b6",
   "metadata": {},
   "outputs": [
    {
     "name": "stdout",
     "output_type": "stream",
     "text": [
      "[-41.25, -28.16, -30.39, -32.52]\n",
      "forest:  338.6125219041345\n",
      "tree:  262.0507315883438\n",
      "linear:  146.44896339833198\n"
     ]
    }
   ],
   "source": [
    "pract_test([-41.25,-28.16,-30.39,-32.52])"
   ]
  },
  {
   "cell_type": "code",
   "execution_count": 25,
   "id": "1ac3c5cb",
   "metadata": {},
   "outputs": [
    {
     "name": "stdout",
     "output_type": "stream",
     "text": [
      "[-30.27, -33.19, -26.42, -32.31]\n",
      "forest:  334.5509572062896\n",
      "tree:  262.0507315883438\n",
      "linear:  183.93882642366046\n"
     ]
    }
   ],
   "source": [
    "pract_test([-30.27,-33.19,-26.42,-32.31])"
   ]
  },
  {
   "cell_type": "code",
   "execution_count": 26,
   "id": "ee742555",
   "metadata": {},
   "outputs": [
    {
     "name": "stdout",
     "output_type": "stream",
     "text": [
      "[-33.4, -37.41, -24.18, -33.58]\n",
      "forest:  334.5509572062896\n",
      "tree:  262.0507315883438\n",
      "linear:  192.03034600190344\n"
     ]
    }
   ],
   "source": [
    "pract_test([-33.40,-37.41,-24.18,-33.58])"
   ]
  },
  {
   "cell_type": "code",
   "execution_count": 27,
   "id": "0a039253",
   "metadata": {},
   "outputs": [
    {
     "name": "stdout",
     "output_type": "stream",
     "text": [
      "[-33.51, -34.43, -25.03, -31.69]\n",
      "forest:  334.5509572062896\n",
      "tree:  262.0507315883438\n",
      "linear:  187.3563878126551\n"
     ]
    }
   ],
   "source": [
    "pract_test([-33.51,-34.43,-25.03,-31.69])"
   ]
  },
  {
   "cell_type": "code",
   "execution_count": 28,
   "id": "6cc8482d",
   "metadata": {},
   "outputs": [
    {
     "name": "stdout",
     "output_type": "stream",
     "text": [
      "[-32.72, -41.08, -23.29, -28.88]\n",
      "forest:  342.46267430525194\n",
      "tree:  262.0507315883438\n",
      "linear:  221.4129520178702\n"
     ]
    }
   ],
   "source": [
    "pract_test([-32.72,-41.08,-23.29,-28.88])"
   ]
  },
  {
   "cell_type": "code",
   "execution_count": 29,
   "id": "4c4ef39e",
   "metadata": {},
   "outputs": [
    {
     "name": "stdout",
     "output_type": "stream",
     "text": [
      "[-32.11, -43.38, -22.81, -28.13]\n",
      "forest:  347.41793794318886\n",
      "tree:  262.0507315883438\n",
      "linear:  227.64178460143143\n"
     ]
    }
   ],
   "source": [
    "pract_test([-32.11,-43.38,-22.81,-28.13])"
   ]
  },
  {
   "cell_type": "code",
   "execution_count": 30,
   "id": "4184edb0",
   "metadata": {},
   "outputs": [
    {
     "name": "stdout",
     "output_type": "stream",
     "text": [
      "[-32.98, -37.53, -22.91, -27.82]\n",
      "forest:  334.5509572062896\n",
      "tree:  262.0507315883438\n",
      "linear:  213.123402324367\n"
     ]
    }
   ],
   "source": [
    "pract_test([-32.98,-37.53,-22.91,-27.82])"
   ]
  },
  {
   "cell_type": "code",
   "execution_count": 62,
   "id": "ed8ea38b",
   "metadata": {},
   "outputs": [
    {
     "name": "stdout",
     "output_type": "stream",
     "text": [
      "30000\n",
      "Training Set\n",
      "SGD:  53808473413058.76\n",
      "\n",
      "\n",
      "Testing Set\n",
      "SGD:  63893052571070.766\n",
      "\n",
      "\n"
     ]
    }
   ],
   "source": [
    "from sklearn.metrics import mean_squared_error\n",
    "from sklearn.base import clone\n",
    "from sklearn.linear_model import SGDRegressor\n",
    "print(len(train_X))\n",
    "\n",
    "sgd_reg = SGDRegressor(max_iter=np.ceil(10**6 / len(train_X)), tol=-np.infty, warm_start=False,\n",
    "penalty=None, learning_rate=\"constant\", eta0=0.005)\n",
    "sgd_reg.fit(train_X,train_y_angle)\n",
    "\n",
    "sgd_tr_preds = sgd_reg.predict(train_X)\n",
    "sgd_test_preds = sgd_reg.predict(test_X)\n",
    "\n",
    "sgd_rmse_tr=np.sqrt(mean_squared_error(train_y_angle,sgd_tr_preds))\n",
    "\n",
    "print(\"Training Set\")\n",
    "print(\"SGD: \",sgd_rmse_tr)\n",
    "\n",
    "print(\"\\n\")\n",
    "\n",
    "sgd_rmse_test=np.sqrt(mean_squared_error(test_y_angle,sgd_test_preds))\n",
    "\n",
    "print(\"Testing Set\")\n",
    "print(\"SGD: \",sgd_rmse_test)\n",
    "print(\"\\n\")\n",
    "\n",
    "# warm_start=True means when fit is called again, continues training where left off\n",
    "# minimum_val_error = float(\"inf\")\n",
    "# best_epoch = None\n",
    "# best_model = None\n",
    "# for epoch in range(1000):\n",
    "#     sgd_reg.fit(train_X, train_y_angle) # continues where it left off\n",
    "#     y_val_predict = sgd_reg.predict(test_X)\n",
    "#     val_error = mean_squared_error(test_y_angle, y_val_predict)\n",
    "#     if val_error < minimum_val_error:\n",
    "#         minimum_val_error = val_error\n",
    "#         best_epoch = epoch\n",
    "#         best_model = clone(sgd_reg)"
   ]
  },
  {
   "cell_type": "code",
   "execution_count": 55,
   "id": "72f5ca7a",
   "metadata": {},
   "outputs": [
    {
     "name": "stdout",
     "output_type": "stream",
     "text": [
      "4547109908026.218\n"
     ]
    }
   ],
   "source": [
    "early_stop_test=np.sqrt(mean_squared_error(test_y_angle,y_val_predict))\n",
    "print(early_stop_test)"
   ]
  },
  {
   "cell_type": "code",
   "execution_count": 39,
   "id": "890c1ae5",
   "metadata": {},
   "outputs": [],
   "source": [
    "from sklearn.preprocessing import StandardScaler\n",
    "from sklearn.linear_model import LogisticRegression\n",
    "from sklearn.pipeline import make_pipeline"
   ]
  },
  {
   "cell_type": "code",
   "execution_count": 43,
   "id": "d9d23708",
   "metadata": {},
   "outputs": [
    {
     "name": "stdout",
     "output_type": "stream",
     "text": [
      "Training Set\n",
      "Regression:  53.97726038401467\n",
      "Log:  53.97726038401467\n",
      "\n",
      "\n",
      "Testing Set\n",
      "Regression:  56.191250836647036\n",
      "Log:  56.191250836647036\n",
      "\n",
      "\n"
     ]
    }
   ],
   "source": [
    "lin_est = make_pipeline(StandardScaler(), LinearRegression())\n",
    "log_est = make_pipeline(StandardScaler(), LinearRegression())\n",
    "\n",
    "lin_est.fit(train_X,train_y)\n",
    "lin_est_tr_preds = lin_est.predict(train_X)\n",
    "lin_est_test_preds = lin_est.predict(test_X)\n",
    "\n",
    "log_est.fit(train_X,train_y)\n",
    "log_est_tr_preds = log_est.predict(train_X)\n",
    "log_est_test_preds = log_est.predict(test_X)\n",
    "\n",
    "\n",
    "lin_rmse_tr=np.sqrt(mean_squared_error(create_angle_array(train_y),create_angle_array(lin_est_tr_preds)))\n",
    "log_rmse_tr=np.sqrt(mean_squared_error(create_angle_array(train_y),create_angle_array(log_est_tr_preds)))\n",
    "\n",
    "\n",
    "print(\"Training Set\")\n",
    "print(\"Regression: \",lin_rmse_tr)\n",
    "print(\"Log: \",log_rmse_tr)\n",
    "\n",
    "print(\"\\n\")\n",
    "\n",
    "lin_rmse_test=np.sqrt(mean_squared_error(create_angle_array(test_y),create_angle_array(lin_est_test_preds)))\n",
    "log_rmse_test=np.sqrt(mean_squared_error(create_angle_array(test_y),create_angle_array(log_est_test_preds)))\n",
    "\n",
    "print(\"Testing Set\")\n",
    "print(\"Regression: \",lin_rmse_test)\n",
    "print(\"Log: \",log_rmse_test)\n",
    "print(\"\\n\")"
   ]
  },
  {
   "cell_type": "code",
   "execution_count": null,
   "id": "f5fda8b0",
   "metadata": {},
   "outputs": [],
   "source": []
  }
 ],
 "metadata": {
  "kernelspec": {
   "display_name": "myenv",
   "language": "python",
   "name": "myenv"
  },
  "language_info": {
   "codemirror_mode": {
    "name": "ipython",
    "version": 3
   },
   "file_extension": ".py",
   "mimetype": "text/x-python",
   "name": "python",
   "nbconvert_exporter": "python",
   "pygments_lexer": "ipython3",
   "version": "3.7.9"
  }
 },
 "nbformat": 4,
 "nbformat_minor": 5
}
